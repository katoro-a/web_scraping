{
 "cells": [
  {
   "cell_type": "markdown",
   "id": "b9b1efde",
   "metadata": {},
   "source": [
    "# fifa_multiple_page_scrape"
   ]
  },
  {
   "cell_type": "code",
   "execution_count": 1,
   "id": "9f6c176a",
   "metadata": {},
   "outputs": [],
   "source": [
    "from bs4 import BeautifulSoup \n",
    "from random import randint\n",
    "from time import sleep  \n",
    "import requests\n",
    "import pandas as pd \n"
   ]
  },
  {
   "cell_type": "code",
   "execution_count": 2,
   "id": "9faf9656",
   "metadata": {},
   "outputs": [],
   "source": [
    "url='https://sofifa.com/?showCol%5B0%5D=pi&showCol%5B1%5D=ae&showCol%5B2%5D=hi&r=220047&set=true'"
   ]
  },
  {
   "cell_type": "code",
   "execution_count": 3,
   "id": "78984833",
   "metadata": {},
   "outputs": [
    {
     "data": {
      "text/plain": [
       "200"
      ]
     },
     "execution_count": 3,
     "metadata": {},
     "output_type": "execute_result"
    }
   ],
   "source": [
    "response = requests.get(url)\n",
    "response.status_code"
   ]
  },
  {
   "cell_type": "code",
   "execution_count": 4,
   "id": "77fec84b",
   "metadata": {},
   "outputs": [],
   "source": [
    "soup = BeautifulSoup(response.content,'html.parser')"
   ]
  },
  {
   "cell_type": "markdown",
   "id": "e2317ca6",
   "metadata": {},
   "source": [
    "# one page scrape"
   ]
  },
  {
   "cell_type": "code",
   "execution_count": null,
   "id": "4fcefa02",
   "metadata": {},
   "outputs": [],
   "source": [
    "names = []  \n",
    "age = [] \n",
    "id_ = []    \n",
    "height = []\n",
    "\n",
    "for i in range(0,120,2):\n",
    "    x = soup.find_all('td',{'class':'col-name'})[i]  \n",
    "    x = x.find('a') \n",
    "    names.append(x['aria-label'])\n",
    "\n",
    "\n",
    "number_it = len(soup.find_all('td',{'class':'col col-ae'}))\n",
    "for i in range(number_it): \n",
    "    age.append(soup.find_all('td',{'class':'col col-ae'})[i].get_text())\n",
    "    id_.append(soup.find_all('td',{'class':'col col-pi'})[i].get_text())\n",
    "    height.append(soup.find_all('td',{'class':'col col-hi'})[i].get_text())\n",
    "    \n",
    "data = pd.DataFrame([names,age,id_,height]).T\n",
    "data.columns = ['player_name','age','player_id','height']\n",
    "data.head()"
   ]
  },
  {
   "cell_type": "code",
   "execution_count": null,
   "id": "6537f96d",
   "metadata": {},
   "outputs": [],
   "source": [
    "# try this on the second page to see if the list number changes "
   ]
  },
  {
   "cell_type": "markdown",
   "id": "aaccc23e",
   "metadata": {},
   "source": [
    "url4= 'https://sofifa.com/players?r=220054&set=true&offset=120' \n",
    "response = requests.get(url)\n",
    "response.status_code\n",
    "soup4 = BeautifulSoup(response.content,'html.parser')"
   ]
  },
  {
   "cell_type": "code",
   "execution_count": null,
   "id": "2360f65e",
   "metadata": {},
   "outputs": [],
   "source": [
    "# RIGHT HERE TRY\n",
    "# try implementing a def in here to see how much cleaner you can make it \n",
    "# could put the finding class into a variable so you dont have to write it as much \n",
    "\n",
    "age = [] \n",
    "id_ = []    \n",
    "height = []\n",
    "\n",
    "number_it_age = len(soup.find_all('td',{'class':'col col-ae'}))\n",
    "for i in range(number_it_age): \n",
    "    age.append(soup.find_all('td',{'class':'col col-ae'})[i].get_text()) \n",
    "\n",
    "number_it_player_id = len(soup.find_all('td',{'class':'col col-pi'}))\n",
    "for i in range(number_it_player_id): \n",
    "    id_.append(soup.find_all('td',{'class':'col col-pi'})[i].get_text())  \n",
    "    \n",
    "number_it_height = len(soup.find_all('td',{'class':'col col-hi'}))\n",
    "for i in range(number_it_height): \n",
    "    height.append(soup.find_all('td',{'class':'col col-hi'})[i].get_text())  \n",
    "    \n",
    "    \n",
    "\n",
    "    \n",
    "data = pd.DataFrame([age,id_,height]).T\n",
    "data.columns = ['age','player_id','height']\n",
    "data.head()\n",
    "\n",
    "\n"
   ]
  },
  {
   "cell_type": "code",
   "execution_count": null,
   "id": "5ba10e1b",
   "metadata": {},
   "outputs": [],
   "source": [
    "# does the code for the first page apply to the rest of them ?? \n",
    "is page one differnt from page 2 of the results in any way ?????"
   ]
  },
  {
   "cell_type": "code",
   "execution_count": null,
   "id": "07118b62",
   "metadata": {},
   "outputs": [],
   "source": [
    "\n",
    "\n",
    "\n",
    "\n",
    "\n",
    "\n",
    "\n",
    "\n"
   ]
  },
  {
   "cell_type": "code",
   "execution_count": null,
   "id": "634d49e6",
   "metadata": {},
   "outputs": [],
   "source": []
  },
  {
   "cell_type": "code",
   "execution_count": null,
   "id": "ff691d0c",
   "metadata": {},
   "outputs": [],
   "source": [
    "# START HERE "
   ]
  },
  {
   "cell_type": "code",
   "execution_count": null,
   "id": "ff4bf230",
   "metadata": {},
   "outputs": [],
   "source": [
    "\n",
    "# trying to figure out why this piece of code does not work in the loop maybe get it to print out what its grabbing on the first page ???\n",
    "# try only 2 pages \n",
    "this piece of code works \n",
    "# issue must be happeing before it reaches here \n",
    "identity_num=[]\n",
    "for i in range(len(soup.find_all('td',{'class':'col col-pi'}))): \n",
    "            identity_num.append(soup.find_all('td',{'class':'col col-pi'})[i].get_text())  "
   ]
  },
  {
   "cell_type": "code",
   "execution_count": null,
   "id": "f4703faa",
   "metadata": {},
   "outputs": [],
   "source": [
    "identity_num"
   ]
  },
  {
   "cell_type": "code",
   "execution_count": 5,
   "id": "13aecb8c",
   "metadata": {},
   "outputs": [
    {
     "name": "stdout",
     "output_type": "stream",
     "text": [
      "https://sofifa.com/players?r=220054&set=true&offset=60\n",
      "correct date\n",
      "https://sofifa.com/players?r=220054&set=true&offset=120\n",
      "correct date\n",
      "https://sofifa.com/players?r=220054&set=true&offset=180\n",
      "correct date\n",
      "https://sofifa.com/players?r=220054&set=true&offset=240\n",
      "correct date\n"
     ]
    },
    {
     "data": {
      "text/plain": [
       "\" data = pd.DataFrame([names,age,id_]).T\\n        data.columns = ['player_name','age','player_id']\\n        data.head()\\n\\n        sleep(2)\\n\\n        i += 60                \\n                \\n        \\n    else:\\n        print('wrong date')\""
      ]
     },
     "execution_count": 5,
     "metadata": {},
     "output_type": "execute_result"
    }
   ],
   "source": [
    "# mess around and correct the error here \n",
    "names = []  \n",
    "age = [] \n",
    "id_ = []    \n",
    "height = []\n",
    "iterations = range(60,300,60)\n",
    "\n",
    "for i in iterations:\n",
    "    start_at = str(i)\n",
    "    url = 'https://sofifa.com/players?r=220054&set=true&offset='+ start_at\n",
    "    r = requests.get(url)\n",
    "    soup = BeautifulSoup(r.content,'html.parser')\n",
    "    print(url)\n",
    "    if soup.title.text == 'Players FIFA 22 May 27, 2022 SoFIFA':  \n",
    "        print('correct date')   \n",
    "        number_it_player_id = len(soup.find_all('td',{'class':'col col-pi'}))\n",
    "        for i in range(number_it_player_id): \n",
    "            id_.append(soup.find_all('td',{'class':'col col-pi'})[i].get_text())\n",
    "        \n",
    "       \n",
    "        \n",
    "        \n",
    "        \n",
    "        \n",
    "        \n",
    "        #for i in range(len(soup.find_all('td',{'class':'col col-pi'}))): \n",
    "            #id_.append(soup.find_all('td',{'class':'col col-pi'})[i].get_text()) \n",
    "        \n",
    "        #number_it_age = len(soup.find_all('td',{'class':'col col-ae'}))\n",
    "        #for i in range(number_it_age): \n",
    "           # age.append(soup.find_all('td',{'class':'col col-ae'})[i].get_text()) \n",
    "\n",
    "            \n",
    "         \n",
    "\n",
    "\n",
    "\n",
    "\n",
    "''' data = pd.DataFrame([names,age,id_]).T\n",
    "        data.columns = ['player_name','age','player_id']\n",
    "        data.head()\n",
    "\n",
    "        sleep(2)\n",
    "\n",
    "        i += 60                \n",
    "                \n",
    "        \n",
    "    else:\n",
    "        print('wrong date')'''"
   ]
  },
  {
   "cell_type": "code",
   "execution_count": 6,
   "id": "1feb0fca",
   "metadata": {},
   "outputs": [
    {
     "data": {
      "text/plain": [
       "[]"
      ]
     },
     "execution_count": 6,
     "metadata": {},
     "output_type": "execute_result"
    }
   ],
   "source": [
    "id_"
   ]
  },
  {
   "cell_type": "markdown",
   "id": "00731f5b",
   "metadata": {},
   "source": [
    "## Check out \n",
    "- https://www.geeksforgeeks.org/how-to-scrape-multiple-pages-of-a-website-using-python/"
   ]
  },
  {
   "cell_type": "code",
   "execution_count": null,
   "id": "fa159077",
   "metadata": {},
   "outputs": [],
   "source": [
    "# remember to be careful about being black listed \n"
   ]
  },
  {
   "cell_type": "code",
   "execution_count": null,
   "id": "6b3c9892",
   "metadata": {},
   "outputs": [],
   "source": [
    "soup.title.text"
   ]
  },
  {
   "cell_type": "markdown",
   "id": "0bba166d",
   "metadata": {},
   "source": [
    "# loop idea\n",
    "- create a loop to iterate through the url links with a pause in between so you dont get banned\n",
    "- check that it has the correct date \n",
    "    - true or false flag\n",
    "- then start the loop to scrape the results and save them to the dataframe \n",
    "- loop breaks when date not equal to what you want  "
   ]
  },
  {
   "cell_type": "markdown",
   "id": "214e58bc",
   "metadata": {},
   "source": [
    "url2='https://sofifa.com/players' \n",
    "# check to see if the date loop words\n",
    "url3 = 'https://sofifa.com/players?r=220053&set=true'"
   ]
  },
  {
   "cell_type": "markdown",
   "id": "6a6dd084",
   "metadata": {},
   "source": [
    "response = requests.get(url3)\n",
    "response.status_code \n",
    "silly = BeautifulSoup(response.content,'html.parser')"
   ]
  },
  {
   "cell_type": "markdown",
   "id": "adfa3da3",
   "metadata": {},
   "source": [
    "silly"
   ]
  },
  {
   "cell_type": "markdown",
   "id": "9ccf2b0d",
   "metadata": {},
   "source": [
    "response = requests.get(url2)\n",
    "response.status_code \n",
    "s = BeautifulSoup(response.content,'html.parser')"
   ]
  },
  {
   "cell_type": "markdown",
   "id": "19d90712",
   "metadata": {},
   "source": [
    "s"
   ]
  },
  {
   "cell_type": "markdown",
   "id": "bde94cb3",
   "metadata": {},
   "source": [
    "# basic loop to see if the correct date is on the page\n",
    "if silly.title.text == 'Players FIFA 22 May 27, 2022 SoFIFA':\n",
    "    print('may 27')\n",
    "else:\n",
    "    print('wrong date')\n"
   ]
  },
  {
   "cell_type": "markdown",
   "id": "c7e64e25",
   "metadata": {},
   "source": [
    "# example to look at below to get an idea of what to do "
   ]
  },
  {
   "cell_type": "markdown",
   "id": "63b7c61b",
   "metadata": {},
   "source": [
    "### look at note file 8.02 webscraping \n",
    "iterations = range(1, 631, 50)\n",
    "\n",
    "for i in iterations:\n",
    "    start_at= str(i)\n",
    "    url = \"https://www.imdb.com/search/title/?title_type=feature&release_date=1990-01-01,1992-12-31&user_rating=7.5,&start=\" + start_at + \"&ref_=adv_nxt\"\n",
    "    print(url)"
   ]
  },
  {
   "cell_type": "markdown",
   "id": "b9852a99",
   "metadata": {},
   "source": [
    "# practice loop\n",
    "iterations = range(60,500,60)\n",
    "\n",
    "for i in iterations:\n",
    "    start_at = str(i)\n",
    "    url = 'https://sofifa.com/players?r=220054&set=true&offset='+ start_at\n",
    "    print(url)"
   ]
  },
  {
   "cell_type": "markdown",
   "id": "a8ba69fd",
   "metadata": {},
   "source": [
    "https://stackoverflow.com/questions/43209593/scraping-data-from-unknown-number-of-pages-using-beautiful-soup \n",
    "- try using format to code instead of setting a varibale and converting it to a string\n",
    "    "
   ]
  },
  {
   "cell_type": "markdown",
   "id": "2b6cfc2e",
   "metadata": {},
   "source": [
    "# URL LOOP"
   ]
  },
  {
   "cell_type": "markdown",
   "id": "cd4db0e5",
   "metadata": {},
   "source": [
    "# create loop to make urls  \n",
    "# multiple pages (60 increments)\n",
    "# basically increment the nuber until you get a 404 response \n",
    "i = 60\n",
    "while(True):\n",
    "    try:\n",
    "        if i == 60: \n",
    "            url = 'https://sofifa.com/players?r=220054&set=true&offset=60'\n",
    "        else: \n",
    "            url = 'https://sofifa.com/players?r=220054&set=true&offset={}'.format(i)\n",
    "        r = requests.get(url)\n",
    "        soup = BeautifulSoup(r.content,'html.parser')\n",
    "        \n",
    "        print(url)\n",
    "        \n",
    "        sleep(2)\n",
    "        \n",
    "        i += 60\n",
    "    except:\n",
    "        break\n",
    "\n"
   ]
  },
  {
   "cell_type": "markdown",
   "id": "e920ff0b",
   "metadata": {},
   "source": [
    "# prototype the big loop to see if it keeps adding the data on \n",
    "# START HERE"
   ]
  },
  {
   "cell_type": "code",
   "execution_count": null,
   "id": "84c68dde",
   "metadata": {},
   "outputs": [],
   "source": [
    "#Locate the player ids \n",
    "#soup.find_all('td',{'class':'col col-pi'})\n",
    "len(soup.find_all('td',{'class':'col col-pi'}))\n",
    "\n",
    "# x = x.text\n",
    "\n",
    "\n",
    "\n",
    "\n",
    "# <td class=\"col col-pi\" data-col=\"pi\">208790</td>"
   ]
  },
  {
   "cell_type": "code",
   "execution_count": null,
   "id": "b9d3f0cb",
   "metadata": {},
   "outputs": [],
   "source": [
    "soup.find('td',{'class':'col col-pi'})"
   ]
  },
  {
   "cell_type": "code",
   "execution_count": null,
   "id": "414f7223",
   "metadata": {},
   "outputs": [],
   "source": [
    "soup.find_all('td',{'class':'col col-pi'})"
   ]
  },
  {
   "cell_type": "code",
   "execution_count": null,
   "id": "1ca27848",
   "metadata": {},
   "outputs": [],
   "source": [
    "id_ = []    \n",
    "number_it_player_id = len(soup.find_all('td',{'class':'col col-pi'}))\n",
    "for i in range(number_it_player_id): \n",
    "    id_.append(soup.find_all('td',{'class':'col col-pi'})[i].get_text())   \n",
    "        \n",
    "        \n",
    "        "
   ]
  },
  {
   "cell_type": "code",
   "execution_count": null,
   "id": "7b75b158",
   "metadata": {},
   "outputs": [],
   "source": [
    "id_"
   ]
  },
  {
   "cell_type": "code",
   "execution_count": null,
   "id": "41d978d8",
   "metadata": {},
   "outputs": [],
   "source": [
    "# mess around and correct the error here \n",
    "names = []  \n",
    "age = [] \n",
    "id_ = []    \n",
    "height = []\n",
    "iterations = range(60,300,60)\n",
    "\n",
    "for i in iterations:\n",
    "    start_at = str(i)\n",
    "    url = 'https://sofifa.com/players?r=220054&set=true&offset='+ start_at\n",
    "    r = requests.get(url)\n",
    "    soup = BeautifulSoup(r.content,'html.parser')\n",
    "    if soup.title.text == 'Players FIFA 22 May 27, 2022 SoFIFA':  \n",
    "        print('correct date')   \n",
    "        for i in range(0,120,2):\n",
    "                x = soup.find_all('td',{'class':'col-name'})[i]  \n",
    "                x = x.find('a') \n",
    "                names.append(x['aria-label']) \n",
    "        \n",
    "        number_it_age = len(soup.find_all('td',{'class':'col col-ae'}))\n",
    "        for i in range(number_it_age): \n",
    "            age.append(soup.find_all('td',{'class':'col col-ae'})[i].get_text()) \n",
    "\n",
    "            \n",
    "            \n",
    "            \n",
    "# issue starts here *******************************\n",
    "        number_it_player_id = len(soup.find_all('td',{'class':'col col-pi'}))\n",
    "        for i in range(number_it_player_id): \n",
    "            id_.append(soup.find_all('td',{'class':'col col-pi'})[i].get_text())  \n",
    "\n",
    "        #number_it_height = len(soup.find_all('td',{'class':'col col-hi'}))\n",
    "        #for i in range(number_it_height): \n",
    "           # height.append(soup.find_all('td',{'class':'col col-hi'})[i].get_text())  \n",
    "# issue ends here **********************************\n",
    "\n",
    "\n",
    "\n",
    "        data = pd.DataFrame([names,age,id_]).T\n",
    "        data.columns = ['player_name','age','player_id']\n",
    "        data.head()\n",
    "\n",
    "        sleep(2)\n",
    "\n",
    "        i += 60                \n",
    "                \n",
    "        \n",
    "    else:\n",
    "        print('wrong date')"
   ]
  },
  {
   "cell_type": "code",
   "execution_count": null,
   "id": "ad70ac02",
   "metadata": {},
   "outputs": [],
   "source": [
    "data.head()"
   ]
  },
  {
   "cell_type": "code",
   "execution_count": null,
   "id": "95354513",
   "metadata": {},
   "outputs": [],
   "source": [
    "# original that works for only the first 2 columns \n",
    "\n",
    "#https://sofifa.com/players?r=220054&set=true&offset=\n",
    "#https://sofifa.com/players?r=220053&set=true&offset=60\n",
    "names = []  \n",
    "age = [] \n",
    "id_ = []    \n",
    "height = []\n",
    "iterations = range(60,300,60)\n",
    "\n",
    "for i in iterations:\n",
    "    start_at = str(i)\n",
    "    url = 'https://sofifa.com/players?r=220054&set=true&offset='+ start_at\n",
    "    r = requests.get(url)\n",
    "    soup = BeautifulSoup(r.content,'html.parser')\n",
    "    if soup.title.text == 'Players FIFA 22 May 27, 2022 SoFIFA':  \n",
    "        print('correct date')   \n",
    "        for i in range(0,120,2):\n",
    "                x = soup.find_all('td',{'class':'col-name'})[i]  \n",
    "                x = x.find('a') \n",
    "                names.append(x['aria-label']) \n",
    "        \n",
    "        number_it_age = len(soup.find_all('td',{'class':'col col-ae'}))\n",
    "        for i in range(number_it_age): \n",
    "            age.append(soup.find_all('td',{'class':'col col-ae'})[i].get_text()) \n",
    "\n",
    "            \n",
    "            \n",
    "            \n",
    "# issue starts here *******************************\n",
    "        number_it_player_id = len(soup.find_all('td',{'class':'col col-pi'}))\n",
    "        for i in range(number_it_player_id): \n",
    "            id_.append(soup.find_all('td',{'class':'col col-pi'})[i].get_text())  \n",
    "\n",
    "        number_it_height = len(soup.find_all('td',{'class':'col col-hi'}))\n",
    "        for i in range(number_it_height): \n",
    "            height.append(soup.find_all('td',{'class':'col col-hi'})[i].get_text())  \n",
    "# issue ends here **********************************\n",
    "\n",
    "\n",
    "\n",
    "        data = pd.DataFrame([names,age,id_,height]).T\n",
    "        data.columns = ['player_name','age','player_id','height']\n",
    "        data.head()\n",
    "\n",
    "        sleep(2)\n",
    "\n",
    "        i += 60                \n",
    "                \n",
    "        \n",
    "    else:\n",
    "        print('wrong date')"
   ]
  },
  {
   "cell_type": "code",
   "execution_count": null,
   "id": "4c53610f",
   "metadata": {},
   "outputs": [],
   "source": [
    "data.head(20)"
   ]
  },
  {
   "cell_type": "code",
   "execution_count": null,
   "id": "f6ee471d",
   "metadata": {},
   "outputs": [],
   "source": [
    "data.shape"
   ]
  },
  {
   "cell_type": "code",
   "execution_count": null,
   "id": "0333716d",
   "metadata": {},
   "outputs": [],
   "source": [
    "len(names)"
   ]
  },
  {
   "cell_type": "code",
   "execution_count": null,
   "id": "92b6bb4d",
   "metadata": {},
   "outputs": [],
   "source": [
    "# mini to check if it keeps adding the new players on use a range this time \n",
    "\n",
    "\n",
    "iterations = range(60,500,60)\n",
    "\n",
    "for i in iterations:\n",
    "    start_at = str(i)\n",
    "    url = 'https://sofifa.com/players?r=220054&set=true&offset='+ start_at\n",
    "    r = requests.get(url)\n",
    "    soup = BeautifulSoup(r.content,'html.parser') \n",
    "    if soup.title.text == 'Players FIFA 22 May 27, 2022 SoFIFA': \n",
    "# ------------------------------------------------------------------------\n",
    "            names = []  \n",
    "            age = [] \n",
    "            id_ = []    \n",
    "            height = []\n",
    "\n",
    "            for i in range(0,120,2):\n",
    "                x = soup.find_all('td',{'class':'col-name'})[i]  \n",
    "                x = x.find('a') \n",
    "                names.append(x['aria-label'])\n",
    "                \n",
    "            number_it_age = len(soup.find_all('td',{'class':'col col-ae'}))\n",
    "            for i in range(number_it_age): \n",
    "                age.append(soup.find_all('td',{'class':'col col-ae'})[i].get_text()) \n",
    "\n",
    "            number_it_player_id = len(soup.find_all('td',{'class':'col col-pi'}))\n",
    "            for i in range(number_it_player_id): \n",
    "                id_.append(soup.find_all('td',{'class':'col col-pi'})[i].get_text())  \n",
    "\n",
    "            number_it_height = len(soup.find_all('td',{'class':'col col-hi'}))\n",
    "            for i in range(number_it_height): \n",
    "                height.append(soup.find_all('td',{'class':'col col-hi'})[i].get_text())  \n",
    "            data = pd.DataFrame([names,age,id_,height]).T\n",
    "            data.columns = ['player_name','age','player_id','height']\n",
    "            data.head()\n",
    "\n",
    "            sleep(2)\n",
    "\n",
    "            i += 60\n",
    "    else:\n",
    "        break\n",
    "                \n",
    "\n",
    "                \n",
    "#----------------------------------------------------------------------------------\n",
    "\n",
    "\n",
    "\n",
    "\n"
   ]
  },
  {
   "cell_type": "code",
   "execution_count": null,
   "id": "53a216f0",
   "metadata": {},
   "outputs": [],
   "source": [
    "data.shape"
   ]
  },
  {
   "cell_type": "code",
   "execution_count": null,
   "id": "593e8e32",
   "metadata": {},
   "outputs": [],
   "source": [
    "# fix the loop so it keeps adding on the data after it "
   ]
  },
  {
   "cell_type": "markdown",
   "id": "71552208",
   "metadata": {},
   "source": [
    "# dont touch the big kahuna\n",
    "\n"
   ]
  },
  {
   "cell_type": "code",
   "execution_count": null,
   "id": "a6d65dd6",
   "metadata": {},
   "outputs": [],
   "source": [
    "# Url loop + the date check of soup + data to get \n",
    "# basic loop to see if the correct date is on the page\n",
    "\n",
    "# NOTE ATTENTION for the range portion 0,120,2 might need to change it to a len like the 2nd part of the loop \n",
    "\n",
    "i = 60\n",
    "while(True):\n",
    "    try:\n",
    "        if i == 60: \n",
    "            url = 'https://sofifa.com/players?r=220054&set=true&offset=60'\n",
    "        else: \n",
    "            url = 'https://sofifa.com/players?r=220054&set=true&offset={}'.format(i)\n",
    "        r = requests.get(url)\n",
    "        soup = BeautifulSoup(r.content,'html.parser')\n",
    "            if soup.title.text == 'Players FIFA 22 May 27, 2022 SoFIFA': \n",
    "                names = []  \n",
    "                age = [] \n",
    "                id_ = []    \n",
    "                height = []\n",
    "\n",
    "                for i in range(0,120,2):\n",
    "                    x = soup.find_all('td',{'class':'col-name'})[i]  \n",
    "                    x = x.find('a') \n",
    "                    names.append(x['aria-label'])\n",
    "\n",
    "\n",
    "                number_it = len(soup.find_all('td',{'class':'col col-ae'}))\n",
    "                for i in range(number_it): \n",
    "                    age.append(soup.find_all('td',{'class':'col col-ae'})[i].get_text())\n",
    "                    id_.append(soup.find_all('td',{'class':'col col-pi'})[i].get_text())\n",
    "                    height.append(soup.find_all('td',{'class':'col col-hi'})[i].get_text())\n",
    "\n",
    "                data = pd.DataFrame([names,age,id_,height]).T\n",
    "                data.columns = ['player_name','age','player_id','height']\n",
    "                data.head()\n",
    "        \n",
    "        sleep(2)\n",
    "        \n",
    "        i += 60\n",
    "    except:\n",
    "        break\n",
    "\n",
    "\n",
    "\n",
    "#-------------------------------------------------------------------------"
   ]
  },
  {
   "cell_type": "code",
   "execution_count": null,
   "id": "c3b481f3",
   "metadata": {},
   "outputs": [],
   "source": []
  }
 ],
 "metadata": {
  "kernelspec": {
   "display_name": "Python 3 (ipykernel)",
   "language": "python",
   "name": "python3"
  },
  "language_info": {
   "codemirror_mode": {
    "name": "ipython",
    "version": 3
   },
   "file_extension": ".py",
   "mimetype": "text/x-python",
   "name": "python",
   "nbconvert_exporter": "python",
   "pygments_lexer": "ipython3",
   "version": "3.9.7"
  }
 },
 "nbformat": 4,
 "nbformat_minor": 5
}
